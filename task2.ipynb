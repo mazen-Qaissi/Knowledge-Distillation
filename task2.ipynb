{
  "nbformat": 4,
  "nbformat_minor": 0,
  "metadata": {
    "colab": {
      "provenance": [],
      "include_colab_link": true
    },
    "kernelspec": {
      "name": "python3",
      "display_name": "Python 3"
    },
    "language_info": {
      "name": "python"
    }
  },
  "cells": [
    {
      "cell_type": "markdown",
      "metadata": {
        "id": "view-in-github",
        "colab_type": "text"
      },
      "source": [
        "<a href=\"https://colab.research.google.com/github/mazen-Qaissi/Knowledge-Distillation/blob/main/task2.ipynb\" target=\"_parent\"><img src=\"https://colab.research.google.com/assets/colab-badge.svg\" alt=\"Open In Colab\"/></a>"
      ]
    },
    {
      "cell_type": "code",
      "execution_count": null,
      "metadata": {
        "id": "lDgPLVDG5Fsr",
        "colab": {
          "base_uri": "https://localhost:8080/"
        },
        "outputId": "056317f0-55ac-45c8-ec04-ab2dd18dc288"
      },
      "outputs": [
        {
          "output_type": "stream",
          "name": "stdout",
          "text": [
            "Looking in indexes: https://pypi.org/simple, https://us-python.pkg.dev/colab-wheels/public/simple/\n",
            "Requirement already satisfied: torch in /usr/local/lib/python3.7/dist-packages (1.12.1+cu113)\n",
            "Requirement already satisfied: typing-extensions in /usr/local/lib/python3.7/dist-packages (from torch) (4.1.1)\n",
            "Looking in indexes: https://pypi.org/simple, https://us-python.pkg.dev/colab-wheels/public/simple/\n",
            "Requirement already satisfied: torchvision in /usr/local/lib/python3.7/dist-packages (0.13.1+cu113)\n",
            "Requirement already satisfied: numpy in /usr/local/lib/python3.7/dist-packages (from torchvision) (1.21.6)\n",
            "Requirement already satisfied: torch==1.12.1 in /usr/local/lib/python3.7/dist-packages (from torchvision) (1.12.1+cu113)\n",
            "Requirement already satisfied: pillow!=8.3.*,>=5.3.0 in /usr/local/lib/python3.7/dist-packages (from torchvision) (7.1.2)\n",
            "Requirement already satisfied: typing-extensions in /usr/local/lib/python3.7/dist-packages (from torchvision) (4.1.1)\n",
            "Requirement already satisfied: requests in /usr/local/lib/python3.7/dist-packages (from torchvision) (2.23.0)\n",
            "Requirement already satisfied: chardet<4,>=3.0.2 in /usr/local/lib/python3.7/dist-packages (from requests->torchvision) (3.0.4)\n",
            "Requirement already satisfied: idna<3,>=2.5 in /usr/local/lib/python3.7/dist-packages (from requests->torchvision) (2.10)\n",
            "Requirement already satisfied: urllib3!=1.25.0,!=1.25.1,<1.26,>=1.21.1 in /usr/local/lib/python3.7/dist-packages (from requests->torchvision) (1.24.3)\n",
            "Requirement already satisfied: certifi>=2017.4.17 in /usr/local/lib/python3.7/dist-packages (from requests->torchvision) (2022.9.24)\n"
          ]
        }
      ],
      "source": [
        "!pip install torch\n",
        "!pip install torchvision"
      ]
    },
    {
      "cell_type": "code",
      "source": [
        "import torch\n",
        "import torch.nn as nn\n",
        "import torchvision.datasets as dsets\n",
        "import torchvision.transforms as transforms\n",
        "import torch.nn.functional as F\n",
        "import torch.utils.data\n",
        "from torch.autograd import Variable\n"
      ],
      "metadata": {
        "id": "2ffcoYWL5K7J"
      },
      "execution_count": null,
      "outputs": []
    },
    {
      "cell_type": "code",
      "source": [
        "# load data\n",
        "batch_size = 32 \n",
        "\n",
        "train_data = dsets.MNIST(root = './data', train = True,transform = transforms.ToTensor(), download = True)\n",
        "test_data = dsets.MNIST(root = './data', train = False,transform = transforms.ToTensor())\n",
        "\n",
        "train_gen = torch.utils.data.DataLoader(dataset = train_data,batch_size = batch_size,shuffle = True)\n",
        "test_gen = torch.utils.data.DataLoader(dataset = test_data,batch_size = batch_size,shuffle = False)"
      ],
      "metadata": {
        "id": "BvSCSFXG5Tkv"
      },
      "execution_count": null,
      "outputs": []
    },
    {
      "cell_type": "code",
      "source": [
        "class CNN(nn.Module):\n",
        "    def __init__(self):\n",
        "        super(CNN, self).__init__()\n",
        "        self.conv1 = nn.Conv2d(1, 32, kernel_size=3)\n",
        "        self.conv2 = nn.Conv2d(32, 32, kernel_size=3)\n",
        "        self.conv3 = nn.Conv2d(32,64, kernel_size=3)\n",
        "        \n",
        "\n",
        "    def forward(self, x):\n",
        "        x = F.max_pool2d(F.relu(self.conv1(x)),2)\n",
        "        x = F.max_pool2d(F.relu(self.conv2(x)), 2)\n",
        "        # x = F.dropout(x, p=0.5, training=self.training)\n",
        "        x = F.softmax(self.conv3(x))\n",
        "        # x = F.dropout(x, p=0.5, training=self.training)\n",
        "        x = x.view(-1,3*3*64 )\n",
        "        return x\n",
        " \n",
        "cnn = CNN()\n",
        "print(cnn)\n",
        "\n",
        "it = iter(train_gen)\n",
        "X_batch, y_batch = next(it)\n",
        "print(cnn.forward(X_batch).shape)"
      ],
      "metadata": {
        "colab": {
          "base_uri": "https://localhost:8080/"
        },
        "id": "ytcyA5GX67cB",
        "outputId": "397ceb64-6331-49d1-de6a-f8ecb70bc409"
      },
      "execution_count": null,
      "outputs": [
        {
          "output_type": "stream",
          "name": "stdout",
          "text": [
            "CNN(\n",
            "  (conv1): Conv2d(1, 32, kernel_size=(3, 3), stride=(1, 1))\n",
            "  (conv2): Conv2d(32, 32, kernel_size=(3, 3), stride=(1, 1))\n",
            "  (conv3): Conv2d(32, 64, kernel_size=(3, 3), stride=(1, 1))\n",
            ")\n",
            "torch.Size([32, 576])\n"
          ]
        },
        {
          "output_type": "stream",
          "name": "stderr",
          "text": [
            "/usr/local/lib/python3.7/dist-packages/ipykernel_launcher.py:12: UserWarning: Implicit dimension choice for softmax has been deprecated. Change the call to include dim=X as an argument.\n",
            "  if sys.path[0] == '':\n"
          ]
        }
      ]
    },
    {
      "cell_type": "code",
      "source": [
        "def fit(model, train_loader):\n",
        "    optimizer = torch.optim.Adam(model.parameters())#,lr=0.001, betas=(0.9,0.999))\n",
        "    error = nn.CrossEntropyLoss()\n",
        "    EPOCHS = 5\n",
        "    model.train()\n",
        "    for epoch in range(EPOCHS):\n",
        "        correct = 0\n",
        "        for batch_idx, (X_batch, y_batch) in enumerate(train_loader):\n",
        "            var_X_batch = Variable(X_batch).float()\n",
        "            var_y_batch = Variable(y_batch)\n",
        "            optimizer.zero_grad()\n",
        "            output = model(var_X_batch)\n",
        "            loss = error(output, var_y_batch)\n",
        "            loss.backward()\n",
        "            optimizer.step()\n",
        "\n",
        "            # Total correct predictions\n",
        "            predicted = torch.max(output.data, 1)[1] \n",
        "            correct += (predicted == var_y_batch).sum()\n",
        "            # print(correct)\n",
        "            if batch_idx % 50 == 0:\n",
        "                print('Epoch : {} [{}/{} ({:.0f}%)]\\tLoss: {:.6f}\\t Accuracy:{:.3f}%'.format(\n",
        "                    epoch, batch_idx*len(X_batch), len(train_loader.dataset), 100.*batch_idx / len(train_loader), loss.data, float(correct*100) / float(batch_size*(batch_idx+1))))\n",
        "\n",
        "\n",
        "fit(cnn,train_gen)\n"
      ],
      "metadata": {
        "colab": {
          "base_uri": "https://localhost:8080/"
        },
        "id": "gxlJzxKe7GTZ",
        "outputId": "8f38de02-a99e-48db-cf8a-7e59ec83503c"
      },
      "execution_count": null,
      "outputs": [
        {
          "output_type": "stream",
          "name": "stdout",
          "text": [
            "Epoch : 0 [0/60000 (0%)]\tLoss: 6.355532\t Accuracy:0.000%\n"
          ]
        },
        {
          "output_type": "stream",
          "name": "stderr",
          "text": [
            "/usr/local/lib/python3.7/dist-packages/ipykernel_launcher.py:12: UserWarning: Implicit dimension choice for softmax has been deprecated. Change the call to include dim=X as an argument.\n",
            "  if sys.path[0] == '':\n"
          ]
        },
        {
          "output_type": "stream",
          "name": "stdout",
          "text": [
            "Epoch : 0 [1600/60000 (3%)]\tLoss: 5.445102\t Accuracy:7.966%\n",
            "Epoch : 0 [3200/60000 (5%)]\tLoss: 5.445102\t Accuracy:8.540%\n",
            "Epoch : 0 [4800/60000 (8%)]\tLoss: 5.507602\t Accuracy:9.354%\n",
            "Epoch : 0 [6400/60000 (11%)]\tLoss: 5.538852\t Accuracy:9.515%\n",
            "Epoch : 0 [8000/60000 (13%)]\tLoss: 5.476352\t Accuracy:9.649%\n",
            "Epoch : 0 [9600/60000 (16%)]\tLoss: 5.507602\t Accuracy:9.759%\n",
            "Epoch : 0 [11200/60000 (19%)]\tLoss: 5.445102\t Accuracy:9.624%\n",
            "Epoch : 0 [12800/60000 (21%)]\tLoss: 5.445102\t Accuracy:9.718%\n",
            "Epoch : 0 [14400/60000 (24%)]\tLoss: 5.507602\t Accuracy:9.562%\n",
            "Epoch : 0 [16000/60000 (27%)]\tLoss: 5.476352\t Accuracy:9.662%\n",
            "Epoch : 0 [17600/60000 (29%)]\tLoss: 5.445102\t Accuracy:9.783%\n",
            "Epoch : 0 [19200/60000 (32%)]\tLoss: 5.445102\t Accuracy:9.791%\n",
            "Epoch : 0 [20800/60000 (35%)]\tLoss: 5.507602\t Accuracy:9.855%\n",
            "Epoch : 0 [22400/60000 (37%)]\tLoss: 5.382602\t Accuracy:9.874%\n",
            "Epoch : 0 [24000/60000 (40%)]\tLoss: 5.445102\t Accuracy:9.799%\n",
            "Epoch : 0 [25600/60000 (43%)]\tLoss: 5.413852\t Accuracy:9.890%\n",
            "Epoch : 0 [27200/60000 (45%)]\tLoss: 5.445102\t Accuracy:9.878%\n",
            "Epoch : 0 [28800/60000 (48%)]\tLoss: 5.476352\t Accuracy:9.878%\n",
            "Epoch : 0 [30400/60000 (51%)]\tLoss: 5.476352\t Accuracy:9.865%\n",
            "Epoch : 0 [32000/60000 (53%)]\tLoss: 5.476352\t Accuracy:9.834%\n",
            "Epoch : 0 [33600/60000 (56%)]\tLoss: 5.445102\t Accuracy:9.830%\n",
            "Epoch : 0 [35200/60000 (59%)]\tLoss: 5.476352\t Accuracy:9.852%\n",
            "Epoch : 0 [36800/60000 (61%)]\tLoss: 5.445102\t Accuracy:9.864%\n",
            "Epoch : 0 [38400/60000 (64%)]\tLoss: 5.445102\t Accuracy:9.880%\n",
            "Epoch : 0 [40000/60000 (67%)]\tLoss: 5.413852\t Accuracy:9.827%\n",
            "Epoch : 0 [41600/60000 (69%)]\tLoss: 5.382602\t Accuracy:9.781%\n",
            "Epoch : 0 [43200/60000 (72%)]\tLoss: 5.476352\t Accuracy:9.812%\n",
            "Epoch : 0 [44800/60000 (75%)]\tLoss: 5.445102\t Accuracy:9.855%\n",
            "Epoch : 0 [46400/60000 (77%)]\tLoss: 5.507602\t Accuracy:9.849%\n",
            "Epoch : 0 [48000/60000 (80%)]\tLoss: 5.507602\t Accuracy:9.852%\n",
            "Epoch : 0 [49600/60000 (83%)]\tLoss: 5.507602\t Accuracy:9.859%\n",
            "Epoch : 0 [51200/60000 (85%)]\tLoss: 5.445103\t Accuracy:9.875%\n",
            "Epoch : 0 [52800/60000 (88%)]\tLoss: 5.507602\t Accuracy:9.896%\n",
            "Epoch : 0 [54400/60000 (91%)]\tLoss: 5.538852\t Accuracy:9.889%\n",
            "Epoch : 0 [56000/60000 (93%)]\tLoss: 5.476352\t Accuracy:9.880%\n",
            "Epoch : 0 [57600/60000 (96%)]\tLoss: 5.507602\t Accuracy:9.868%\n",
            "Epoch : 0 [59200/60000 (99%)]\tLoss: 5.445102\t Accuracy:9.883%\n",
            "Epoch : 1 [0/60000 (0%)]\tLoss: 5.507602\t Accuracy:9.375%\n",
            "Epoch : 1 [1600/60000 (3%)]\tLoss: 5.445102\t Accuracy:10.723%\n",
            "Epoch : 1 [3200/60000 (5%)]\tLoss: 5.507602\t Accuracy:10.427%\n",
            "Epoch : 1 [4800/60000 (8%)]\tLoss: 5.507602\t Accuracy:10.017%\n",
            "Epoch : 1 [6400/60000 (11%)]\tLoss: 5.507603\t Accuracy:9.795%\n",
            "Epoch : 1 [8000/60000 (13%)]\tLoss: 5.445102\t Accuracy:9.885%\n",
            "Epoch : 1 [9600/60000 (16%)]\tLoss: 5.601352\t Accuracy:9.811%\n",
            "Epoch : 1 [11200/60000 (19%)]\tLoss: 5.445102\t Accuracy:10.150%\n",
            "Epoch : 1 [12800/60000 (21%)]\tLoss: 5.476352\t Accuracy:10.185%\n",
            "Epoch : 1 [14400/60000 (24%)]\tLoss: 5.445102\t Accuracy:10.193%\n",
            "Epoch : 1 [16000/60000 (27%)]\tLoss: 5.413853\t Accuracy:10.124%\n",
            "Epoch : 1 [17600/60000 (29%)]\tLoss: 5.445102\t Accuracy:10.243%\n",
            "Epoch : 1 [19200/60000 (32%)]\tLoss: 5.476352\t Accuracy:10.337%\n",
            "Epoch : 1 [20800/60000 (35%)]\tLoss: 5.570102\t Accuracy:10.455%\n",
            "Epoch : 1 [22400/60000 (37%)]\tLoss: 5.476352\t Accuracy:10.432%\n",
            "Epoch : 1 [24000/60000 (40%)]\tLoss: 5.413852\t Accuracy:10.415%\n",
            "Epoch : 1 [25600/60000 (43%)]\tLoss: 5.413852\t Accuracy:10.409%\n",
            "Epoch : 1 [27200/60000 (45%)]\tLoss: 5.445102\t Accuracy:10.330%\n",
            "Epoch : 1 [28800/60000 (48%)]\tLoss: 5.445102\t Accuracy:10.322%\n",
            "Epoch : 1 [30400/60000 (51%)]\tLoss: 5.445102\t Accuracy:10.289%\n",
            "Epoch : 1 [32000/60000 (53%)]\tLoss: 5.507602\t Accuracy:10.352%\n",
            "Epoch : 1 [33600/60000 (56%)]\tLoss: 5.476352\t Accuracy:10.371%\n",
            "Epoch : 1 [35200/60000 (59%)]\tLoss: 5.507602\t Accuracy:10.439%\n",
            "Epoch : 1 [36800/60000 (61%)]\tLoss: 5.445102\t Accuracy:10.510%\n",
            "Epoch : 1 [38400/60000 (64%)]\tLoss: 5.445102\t Accuracy:10.450%\n",
            "Epoch : 1 [40000/60000 (67%)]\tLoss: 5.445102\t Accuracy:10.417%\n",
            "Epoch : 1 [41600/60000 (69%)]\tLoss: 5.507602\t Accuracy:10.429%\n",
            "Epoch : 1 [43200/60000 (72%)]\tLoss: 5.507602\t Accuracy:10.439%\n",
            "Epoch : 1 [44800/60000 (75%)]\tLoss: 5.538852\t Accuracy:10.470%\n",
            "Epoch : 1 [46400/60000 (77%)]\tLoss: 5.570102\t Accuracy:10.484%\n",
            "Epoch : 1 [48000/60000 (80%)]\tLoss: 5.632602\t Accuracy:10.491%\n",
            "Epoch : 1 [49600/60000 (83%)]\tLoss: 5.413852\t Accuracy:10.517%\n",
            "Epoch : 1 [51200/60000 (85%)]\tLoss: 5.507602\t Accuracy:10.558%\n",
            "Epoch : 1 [52800/60000 (88%)]\tLoss: 5.570102\t Accuracy:10.541%\n",
            "Epoch : 1 [54400/60000 (91%)]\tLoss: 5.445102\t Accuracy:10.545%\n",
            "Epoch : 1 [56000/60000 (93%)]\tLoss: 5.507602\t Accuracy:10.551%\n",
            "Epoch : 1 [57600/60000 (96%)]\tLoss: 5.476352\t Accuracy:10.539%\n",
            "Epoch : 1 [59200/60000 (99%)]\tLoss: 5.476352\t Accuracy:10.580%\n",
            "Epoch : 2 [0/60000 (0%)]\tLoss: 5.445102\t Accuracy:9.375%\n",
            "Epoch : 2 [1600/60000 (3%)]\tLoss: 5.413852\t Accuracy:10.049%\n",
            "Epoch : 2 [3200/60000 (5%)]\tLoss: 5.507602\t Accuracy:9.870%\n",
            "Epoch : 2 [4800/60000 (8%)]\tLoss: 5.445102\t Accuracy:10.327%\n",
            "Epoch : 2 [6400/60000 (11%)]\tLoss: 5.507602\t Accuracy:10.681%\n",
            "Epoch : 2 [8000/60000 (13%)]\tLoss: 5.445102\t Accuracy:11.006%\n",
            "Epoch : 2 [9600/60000 (16%)]\tLoss: 5.476352\t Accuracy:11.181%\n",
            "Epoch : 2 [11200/60000 (19%)]\tLoss: 5.476352\t Accuracy:11.084%\n",
            "Epoch : 2 [12800/60000 (21%)]\tLoss: 5.445102\t Accuracy:11.050%\n",
            "Epoch : 2 [14400/60000 (24%)]\tLoss: 5.445102\t Accuracy:11.052%\n",
            "Epoch : 2 [16000/60000 (27%)]\tLoss: 5.445102\t Accuracy:11.065%\n",
            "Epoch : 2 [17600/60000 (29%)]\tLoss: 5.538852\t Accuracy:11.037%\n",
            "Epoch : 2 [19200/60000 (32%)]\tLoss: 5.413852\t Accuracy:11.252%\n",
            "Epoch : 2 [20800/60000 (35%)]\tLoss: 5.507602\t Accuracy:11.223%\n",
            "Epoch : 2 [22400/60000 (37%)]\tLoss: 5.476352\t Accuracy:11.194%\n",
            "Epoch : 2 [24000/60000 (40%)]\tLoss: 5.413852\t Accuracy:11.322%\n",
            "Epoch : 2 [25600/60000 (43%)]\tLoss: 5.445102\t Accuracy:11.271%\n",
            "Epoch : 2 [27200/60000 (45%)]\tLoss: 5.413852\t Accuracy:11.461%\n",
            "Epoch : 2 [28800/60000 (48%)]\tLoss: 5.445102\t Accuracy:11.522%\n",
            "Epoch : 2 [30400/60000 (51%)]\tLoss: 5.445102\t Accuracy:11.557%\n",
            "Epoch : 2 [32000/60000 (53%)]\tLoss: 5.445102\t Accuracy:11.592%\n",
            "Epoch : 2 [33600/60000 (56%)]\tLoss: 5.445102\t Accuracy:11.662%\n",
            "Epoch : 2 [35200/60000 (59%)]\tLoss: 5.382602\t Accuracy:11.771%\n",
            "Epoch : 2 [36800/60000 (61%)]\tLoss: 5.538852\t Accuracy:11.794%\n",
            "Epoch : 2 [38400/60000 (64%)]\tLoss: 5.507602\t Accuracy:11.857%\n",
            "Epoch : 2 [40000/60000 (67%)]\tLoss: 5.476352\t Accuracy:11.878%\n",
            "Epoch : 2 [41600/60000 (69%)]\tLoss: 5.476352\t Accuracy:11.904%\n",
            "Epoch : 2 [43200/60000 (72%)]\tLoss: 5.507602\t Accuracy:11.959%\n",
            "Epoch : 2 [44800/60000 (75%)]\tLoss: 5.445102\t Accuracy:12.005%\n",
            "Epoch : 2 [46400/60000 (77%)]\tLoss: 5.507602\t Accuracy:12.015%\n",
            "Epoch : 2 [48000/60000 (80%)]\tLoss: 5.382602\t Accuracy:12.029%\n",
            "Epoch : 2 [49600/60000 (83%)]\tLoss: 5.476352\t Accuracy:12.053%\n",
            "Epoch : 2 [51200/60000 (85%)]\tLoss: 5.538852\t Accuracy:12.074%\n",
            "Epoch : 2 [52800/60000 (88%)]\tLoss: 5.507602\t Accuracy:12.112%\n",
            "Epoch : 2 [54400/60000 (91%)]\tLoss: 5.538852\t Accuracy:12.116%\n",
            "Epoch : 2 [56000/60000 (93%)]\tLoss: 5.538852\t Accuracy:12.134%\n",
            "Epoch : 2 [57600/60000 (96%)]\tLoss: 5.507602\t Accuracy:12.170%\n",
            "Epoch : 2 [59200/60000 (99%)]\tLoss: 5.601352\t Accuracy:12.208%\n",
            "Epoch : 3 [0/60000 (0%)]\tLoss: 5.570102\t Accuracy:21.875%\n",
            "Epoch : 3 [1600/60000 (3%)]\tLoss: 5.413852\t Accuracy:13.725%\n",
            "Epoch : 3 [3200/60000 (5%)]\tLoss: 5.538852\t Accuracy:13.026%\n",
            "Epoch : 3 [4800/60000 (8%)]\tLoss: 5.507602\t Accuracy:13.597%\n",
            "Epoch : 3 [6400/60000 (11%)]\tLoss: 5.476352\t Accuracy:13.993%\n",
            "Epoch : 3 [8000/60000 (13%)]\tLoss: 5.476352\t Accuracy:13.782%\n",
            "Epoch : 3 [9600/60000 (16%)]\tLoss: 5.538852\t Accuracy:13.829%\n",
            "Epoch : 3 [11200/60000 (19%)]\tLoss: 5.538852\t Accuracy:13.889%\n",
            "Epoch : 3 [12800/60000 (21%)]\tLoss: 5.507602\t Accuracy:13.848%\n",
            "Epoch : 3 [14400/60000 (24%)]\tLoss: 5.476352\t Accuracy:13.962%\n",
            "Epoch : 3 [16000/60000 (27%)]\tLoss: 5.507602\t Accuracy:13.928%\n",
            "Epoch : 3 [17600/60000 (29%)]\tLoss: 5.476352\t Accuracy:13.901%\n",
            "Epoch : 3 [19200/60000 (32%)]\tLoss: 5.538852\t Accuracy:13.920%\n",
            "Epoch : 3 [20800/60000 (35%)]\tLoss: 5.476352\t Accuracy:13.998%\n",
            "Epoch : 3 [22400/60000 (37%)]\tLoss: 5.538852\t Accuracy:14.002%\n",
            "Epoch : 3 [24000/60000 (40%)]\tLoss: 5.538852\t Accuracy:14.035%\n",
            "Epoch : 3 [25600/60000 (43%)]\tLoss: 5.476352\t Accuracy:14.033%\n",
            "Epoch : 3 [27200/60000 (45%)]\tLoss: 5.507602\t Accuracy:14.072%\n",
            "Epoch : 3 [28800/60000 (48%)]\tLoss: 5.507602\t Accuracy:14.116%\n",
            "Epoch : 3 [30400/60000 (51%)]\tLoss: 5.476352\t Accuracy:14.143%\n",
            "Epoch : 3 [32000/60000 (53%)]\tLoss: 5.445102\t Accuracy:14.236%\n",
            "Epoch : 3 [33600/60000 (56%)]\tLoss: 5.413852\t Accuracy:14.296%\n",
            "Epoch : 3 [35200/60000 (59%)]\tLoss: 5.413852\t Accuracy:14.419%\n",
            "Epoch : 3 [36800/60000 (61%)]\tLoss: 5.413852\t Accuracy:14.460%\n",
            "Epoch : 3 [38400/60000 (64%)]\tLoss: 5.445102\t Accuracy:14.509%\n",
            "Epoch : 3 [40000/60000 (67%)]\tLoss: 5.538852\t Accuracy:14.511%\n",
            "Epoch : 3 [41600/60000 (69%)]\tLoss: 5.476352\t Accuracy:14.547%\n",
            "Epoch : 3 [43200/60000 (72%)]\tLoss: 5.538852\t Accuracy:14.568%\n",
            "Epoch : 3 [44800/60000 (75%)]\tLoss: 5.445102\t Accuracy:14.577%\n",
            "Epoch : 3 [46400/60000 (77%)]\tLoss: 5.445102\t Accuracy:14.596%\n",
            "Epoch : 3 [48000/60000 (80%)]\tLoss: 5.507602\t Accuracy:14.649%\n",
            "Epoch : 3 [49600/60000 (83%)]\tLoss: 5.445102\t Accuracy:14.684%\n",
            "Epoch : 3 [51200/60000 (85%)]\tLoss: 5.507602\t Accuracy:14.715%\n",
            "Epoch : 3 [52800/60000 (88%)]\tLoss: 5.507602\t Accuracy:14.754%\n",
            "Epoch : 3 [54400/60000 (91%)]\tLoss: 5.445102\t Accuracy:14.778%\n",
            "Epoch : 3 [56000/60000 (93%)]\tLoss: 5.445102\t Accuracy:14.827%\n",
            "Epoch : 3 [57600/60000 (96%)]\tLoss: 5.382602\t Accuracy:14.872%\n",
            "Epoch : 3 [59200/60000 (99%)]\tLoss: 5.382602\t Accuracy:14.945%\n",
            "Epoch : 4 [0/60000 (0%)]\tLoss: 5.413852\t Accuracy:15.625%\n",
            "Epoch : 4 [1600/60000 (3%)]\tLoss: 5.507602\t Accuracy:15.319%\n",
            "Epoch : 4 [3200/60000 (5%)]\tLoss: 5.507602\t Accuracy:16.213%\n",
            "Epoch : 4 [4800/60000 (8%)]\tLoss: 5.382602\t Accuracy:16.680%\n",
            "Epoch : 4 [6400/60000 (11%)]\tLoss: 5.413852\t Accuracy:16.884%\n",
            "Epoch : 4 [8000/60000 (13%)]\tLoss: 5.445102\t Accuracy:16.683%\n",
            "Epoch : 4 [9600/60000 (16%)]\tLoss: 5.476352\t Accuracy:16.881%\n",
            "Epoch : 4 [11200/60000 (19%)]\tLoss: 5.538852\t Accuracy:16.818%\n",
            "Epoch : 4 [12800/60000 (21%)]\tLoss: 5.507602\t Accuracy:16.693%\n",
            "Epoch : 4 [14400/60000 (24%)]\tLoss: 5.570102\t Accuracy:16.540%\n",
            "Epoch : 4 [16000/60000 (27%)]\tLoss: 5.413852\t Accuracy:16.517%\n",
            "Epoch : 4 [17600/60000 (29%)]\tLoss: 5.538852\t Accuracy:16.595%\n",
            "Epoch : 4 [19200/60000 (32%)]\tLoss: 5.413852\t Accuracy:16.613%\n",
            "Epoch : 4 [20800/60000 (35%)]\tLoss: 5.445102\t Accuracy:16.657%\n",
            "Epoch : 4 [22400/60000 (37%)]\tLoss: 5.476352\t Accuracy:16.726%\n",
            "Epoch : 4 [24000/60000 (40%)]\tLoss: 5.413852\t Accuracy:16.761%\n",
            "Epoch : 4 [25600/60000 (43%)]\tLoss: 5.507602\t Accuracy:16.846%\n",
            "Epoch : 4 [27200/60000 (45%)]\tLoss: 5.382602\t Accuracy:16.892%\n",
            "Epoch : 4 [28800/60000 (48%)]\tLoss: 5.445102\t Accuracy:17.005%\n",
            "Epoch : 4 [30400/60000 (51%)]\tLoss: 5.507602\t Accuracy:17.025%\n",
            "Epoch : 4 [32000/60000 (53%)]\tLoss: 5.476352\t Accuracy:17.092%\n",
            "Epoch : 4 [33600/60000 (56%)]\tLoss: 5.476352\t Accuracy:17.100%\n",
            "Epoch : 4 [35200/60000 (59%)]\tLoss: 5.382602\t Accuracy:17.180%\n",
            "Epoch : 4 [36800/60000 (61%)]\tLoss: 5.445102\t Accuracy:17.224%\n",
            "Epoch : 4 [38400/60000 (64%)]\tLoss: 5.382602\t Accuracy:17.251%\n",
            "Epoch : 4 [40000/60000 (67%)]\tLoss: 5.476352\t Accuracy:17.276%\n",
            "Epoch : 4 [41600/60000 (69%)]\tLoss: 5.382602\t Accuracy:17.357%\n",
            "Epoch : 4 [43200/60000 (72%)]\tLoss: 5.476352\t Accuracy:17.432%\n",
            "Epoch : 4 [44800/60000 (75%)]\tLoss: 5.476352\t Accuracy:17.427%\n",
            "Epoch : 4 [46400/60000 (77%)]\tLoss: 5.413852\t Accuracy:17.430%\n",
            "Epoch : 4 [48000/60000 (80%)]\tLoss: 5.445102\t Accuracy:17.476%\n",
            "Epoch : 4 [49600/60000 (83%)]\tLoss: 5.445102\t Accuracy:17.509%\n",
            "Epoch : 4 [51200/60000 (85%)]\tLoss: 5.476352\t Accuracy:17.553%\n",
            "Epoch : 4 [52800/60000 (88%)]\tLoss: 5.445102\t Accuracy:17.514%\n",
            "Epoch : 4 [54400/60000 (91%)]\tLoss: 5.476352\t Accuracy:17.515%\n",
            "Epoch : 4 [56000/60000 (93%)]\tLoss: 5.538852\t Accuracy:17.540%\n",
            "Epoch : 4 [57600/60000 (96%)]\tLoss: 5.476352\t Accuracy:17.563%\n",
            "Epoch : 4 [59200/60000 (99%)]\tLoss: 5.445102\t Accuracy:17.622%\n"
          ]
        }
      ]
    },
    {
      "cell_type": "code",
      "source": [
        "def evaluate(model):\n",
        "#model = mlp\n",
        "    correct = 0 \n",
        "    for test_imgs, test_labels in test_gen:\n",
        "        #print(test_imgs.shape)\n",
        "        test_imgs = Variable(test_imgs).float()\n",
        "        output = model(test_imgs)\n",
        "        predicted = torch.max(output,1)[1]\n",
        "        correct += (predicted == test_labels).sum()\n",
        "    print(\"Test accuracy:{:.3f}% \".format( float(correct) / (len(test_gen)*32)))\n",
        "\n",
        "evaluate(cnn)\n"
      ],
      "metadata": {
        "colab": {
          "base_uri": "https://localhost:8080/"
        },
        "id": "AnM2db9k7Kkh",
        "outputId": "29429545-b229-47dc-818c-5d2884f38f15"
      },
      "execution_count": null,
      "outputs": [
        {
          "output_type": "stream",
          "name": "stderr",
          "text": [
            "/usr/local/lib/python3.7/dist-packages/ipykernel_launcher.py:12: UserWarning: Implicit dimension choice for softmax has been deprecated. Change the call to include dim=X as an argument.\n",
            "  if sys.path[0] == '':\n"
          ]
        },
        {
          "output_type": "stream",
          "name": "stdout",
          "text": [
            "Test accuracy:0.188% \n"
          ]
        }
      ]
    }
  ]
}